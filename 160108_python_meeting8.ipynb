{
 "cells": [
  {
   "cell_type": "markdown",
   "metadata": {},
   "source": [
    "# pandasとmatplotlibで株価分析\n",
    "2016.1.8 みんなのPython勉強会#8 資料"
   ]
  },
  {
   "cell_type": "markdown",
   "metadata": {
    "collapsed": true
   },
   "source": [
    "## 自己紹介\n",
    "\n",
    "\n",
    "* 藤田　拓生\n",
    "\n",
    "    - CAE (Computer Aided Engineering)エンジニア\n",
    "    - 某CAEベンダー勤務、受託解析、ソルバーのユーザーサブルーチン作成などを担当\n",
    "    - Python歴は1年程度。業務で入力データ、出力データのテキストファイルを編集するのにPythonが役に立っている。\n",
    "      趣味で株式投資をしており、Pythonを活用したいと考えている。\n",
    "    - ブログ→http://plaza.rakuten.co.jp/takupin/\n",
    "    - twitter→@pyontaku14\n",
    "    - facebook→https://www.facebook.com/takuo.fujita.9\n"
   ]
  },
  {
   "cell_type": "markdown",
   "metadata": {},
   "source": [
    "## 内容\n",
    "\n",
    "    - 四季報の業績(売上高、営業利益、経常利益、純利益)の伸び率と株価の伸び率の関係を視覚化する。\n",
    "    \n",
    "## 手順\n",
    "\n",
    "    1. 2014年と2015年の四季報の業績をpandasで四季報オンラインから取得\n",
    "    2. 業績の伸び率を計算\n",
    "    3. 2014年3月31日と2015年3月31日の株価調整後終値をpandasでヤフーファイナンスから取得\n",
    "    4. 株価の伸び率を計算\n",
    "    5. matplotlibで業績の伸び率を横軸、株価の伸び率を縦軸として散布図を作成\n",
    "    6. matplotlibで株価の伸び率のヒストグラムを作成\n",
    "    7. matplotlibでTOPIXのチャート描画\n"
   ]
  },
  {
   "cell_type": "code",
   "execution_count": 1,
   "metadata": {
    "collapsed": false
   },
   "outputs": [],
   "source": [
    "import pandas as pd"
   ]
  },
  {
   "cell_type": "markdown",
   "metadata": {},
   "source": [
    "## 1. 2014年と2015年の四季報の業績をpandasで四季報オンラインから取得\n",
    "* 「1301、極洋」の業績を四季報オンラインから取得"
   ]
  },
  {
   "cell_type": "code",
   "execution_count": 2,
   "metadata": {
    "collapsed": false
   },
   "outputs": [],
   "source": [
    "gyoseki=pd.read_html(\"https://shikiho.jp/tk/stock/info/1301\")"
   ]
  },
  {
   "cell_type": "markdown",
   "metadata": {
    "collapsed": true
   },
   "source": [
    "6番目のデータフレームが目的のデータ"
   ]
  },
  {
   "cell_type": "code",
   "execution_count": 3,
   "metadata": {
    "collapsed": false
   },
   "outputs": [
    {
     "data": {
      "text/html": [
       "<div>\n",
       "<table border=\"1\" class=\"dataframe\">\n",
       "  <thead>\n",
       "    <tr style=\"text-align: right;\">\n",
       "      <th></th>\n",
       "      <th>0</th>\n",
       "      <th>1</th>\n",
       "      <th>2</th>\n",
       "      <th>3</th>\n",
       "      <th>4</th>\n",
       "      <th>5</th>\n",
       "      <th>6</th>\n",
       "    </tr>\n",
       "  </thead>\n",
       "  <tbody>\n",
       "    <tr>\n",
       "      <th>0</th>\n",
       "      <td>【業績】</td>\n",
       "      <td>売上高</td>\n",
       "      <td>営業利益</td>\n",
       "      <td>経常利益</td>\n",
       "      <td>純利益</td>\n",
       "      <td>1株益(円)</td>\n",
       "      <td>1株配(円)</td>\n",
       "    </tr>\n",
       "    <tr>\n",
       "      <th>1</th>\n",
       "      <td>連11. 3</td>\n",
       "      <td>162731</td>\n",
       "      <td>1588</td>\n",
       "      <td>1783</td>\n",
       "      <td>58</td>\n",
       "      <td>0.6</td>\n",
       "      <td>5</td>\n",
       "    </tr>\n",
       "    <tr>\n",
       "      <th>2</th>\n",
       "      <td>連12. 3</td>\n",
       "      <td>181885</td>\n",
       "      <td>1636</td>\n",
       "      <td>1707</td>\n",
       "      <td>423</td>\n",
       "      <td>4.0</td>\n",
       "      <td>5</td>\n",
       "    </tr>\n",
       "    <tr>\n",
       "      <th>3</th>\n",
       "      <td>連13. 3</td>\n",
       "      <td>178046</td>\n",
       "      <td>2324</td>\n",
       "      <td>2262</td>\n",
       "      <td>1269</td>\n",
       "      <td>12.1</td>\n",
       "      <td>5</td>\n",
       "    </tr>\n",
       "    <tr>\n",
       "      <th>4</th>\n",
       "      <td>連14. 3</td>\n",
       "      <td>202387</td>\n",
       "      <td>2915</td>\n",
       "      <td>2985</td>\n",
       "      <td>2968</td>\n",
       "      <td>28.3</td>\n",
       "      <td>5</td>\n",
       "    </tr>\n",
       "    <tr>\n",
       "      <th>5</th>\n",
       "      <td>連15. 3</td>\n",
       "      <td>218350</td>\n",
       "      <td>2460</td>\n",
       "      <td>2107</td>\n",
       "      <td>2433</td>\n",
       "      <td>23.2</td>\n",
       "      <td>5</td>\n",
       "    </tr>\n",
       "    <tr>\n",
       "      <th>6</th>\n",
       "      <td>連16. 3予</td>\n",
       "      <td>229000</td>\n",
       "      <td>2600</td>\n",
       "      <td>3000</td>\n",
       "      <td>2200</td>\n",
       "      <td>20.9</td>\n",
       "      <td>5</td>\n",
       "    </tr>\n",
       "    <tr>\n",
       "      <th>7</th>\n",
       "      <td>連17. 3予</td>\n",
       "      <td>243000</td>\n",
       "      <td>4300</td>\n",
       "      <td>4200</td>\n",
       "      <td>2500</td>\n",
       "      <td>23.8</td>\n",
       "      <td>5</td>\n",
       "    </tr>\n",
       "    <tr>\n",
       "      <th>8</th>\n",
       "      <td>中15. 9</td>\n",
       "      <td>108499</td>\n",
       "      <td>1126</td>\n",
       "      <td>1407</td>\n",
       "      <td>911</td>\n",
       "      <td>8.7</td>\n",
       "      <td>0</td>\n",
       "    </tr>\n",
       "    <tr>\n",
       "      <th>9</th>\n",
       "      <td>中16. 9予</td>\n",
       "      <td>115000</td>\n",
       "      <td>1500</td>\n",
       "      <td>1500</td>\n",
       "      <td>1000</td>\n",
       "      <td>9.5</td>\n",
       "      <td>0</td>\n",
       "    </tr>\n",
       "    <tr>\n",
       "      <th>10</th>\n",
       "      <td>会16. 3予</td>\n",
       "      <td>229000</td>\n",
       "      <td>2600</td>\n",
       "      <td>3000</td>\n",
       "      <td>2200</td>\n",
       "      <td>-</td>\n",
       "      <td>(15.10.26)</td>\n",
       "    </tr>\n",
       "    <tr>\n",
       "      <th>11</th>\n",
       "      <td>単位は百万円,1株当たりは円</td>\n",
       "      <td>▶業績財務の詳細を見る</td>\n",
       "      <td>NaN</td>\n",
       "      <td>NaN</td>\n",
       "      <td>NaN</td>\n",
       "      <td>NaN</td>\n",
       "      <td>NaN</td>\n",
       "    </tr>\n",
       "  </tbody>\n",
       "</table>\n",
       "</div>"
      ],
      "text/plain": [
       "                 0            1     2     3     4       5           6\n",
       "0             【業績】          売上高  営業利益  経常利益   純利益  1株益(円)      1株配(円)\n",
       "1           連11. 3       162731  1588  1783    58     0.6           5\n",
       "2           連12. 3       181885  1636  1707   423     4.0           5\n",
       "3           連13. 3       178046  2324  2262  1269    12.1           5\n",
       "4           連14. 3       202387  2915  2985  2968    28.3           5\n",
       "5           連15. 3       218350  2460  2107  2433    23.2           5\n",
       "6          連16. 3予       229000  2600  3000  2200    20.9           5\n",
       "7          連17. 3予       243000  4300  4200  2500    23.8           5\n",
       "8           中15. 9       108499  1126  1407   911     8.7           0\n",
       "9          中16. 9予       115000  1500  1500  1000     9.5           0\n",
       "10         会16. 3予       229000  2600  3000  2200       -  (15.10.26)\n",
       "11  単位は百万円,1株当たりは円  ▶業績財務の詳細を見る   NaN   NaN   NaN     NaN         NaN"
      ]
     },
     "execution_count": 3,
     "metadata": {},
     "output_type": "execute_result"
    }
   ],
   "source": [
    "gyoseki[6]"
   ]
  },
  {
   "cell_type": "markdown",
   "metadata": {},
   "source": [
    "2014年と2015年の業績を表示"
   ]
  },
  {
   "cell_type": "code",
   "execution_count": 4,
   "metadata": {
    "collapsed": false,
    "scrolled": true
   },
   "outputs": [
    {
     "data": {
      "text/html": [
       "<div>\n",
       "<table border=\"1\" class=\"dataframe\">\n",
       "  <thead>\n",
       "    <tr style=\"text-align: right;\">\n",
       "      <th></th>\n",
       "      <th>0</th>\n",
       "      <th>1</th>\n",
       "      <th>2</th>\n",
       "      <th>3</th>\n",
       "      <th>4</th>\n",
       "      <th>5</th>\n",
       "      <th>6</th>\n",
       "    </tr>\n",
       "  </thead>\n",
       "  <tbody>\n",
       "    <tr>\n",
       "      <th>4</th>\n",
       "      <td>連14. 3</td>\n",
       "      <td>202387</td>\n",
       "      <td>2915</td>\n",
       "      <td>2985</td>\n",
       "      <td>2968</td>\n",
       "      <td>28.3</td>\n",
       "      <td>5</td>\n",
       "    </tr>\n",
       "    <tr>\n",
       "      <th>5</th>\n",
       "      <td>連15. 3</td>\n",
       "      <td>218350</td>\n",
       "      <td>2460</td>\n",
       "      <td>2107</td>\n",
       "      <td>2433</td>\n",
       "      <td>23.2</td>\n",
       "      <td>5</td>\n",
       "    </tr>\n",
       "  </tbody>\n",
       "</table>\n",
       "</div>"
      ],
      "text/plain": [
       "        0       1     2     3     4     5  6\n",
       "4  連14. 3  202387  2915  2985  2968  28.3  5\n",
       "5  連15. 3  218350  2460  2107  2433  23.2  5"
      ]
     },
     "execution_count": 4,
     "metadata": {},
     "output_type": "execute_result"
    }
   ],
   "source": [
    "gyoseki[6].ix[4:5]"
   ]
  },
  {
   "cell_type": "markdown",
   "metadata": {},
   "source": [
    "## 2. 業績の伸び率を計算"
   ]
  },
  {
   "cell_type": "markdown",
   "metadata": {},
   "source": [
    "伸び率=2015年の業績/2014年の業績-1.0<br>\n",
    "売上高の伸び率→uri, 営業利益の伸び率→eiri<br>\n",
    "経常利益の伸び率→keiri, 純利益の伸び率→junri<br>"
   ]
  },
  {
   "cell_type": "code",
   "execution_count": 5,
   "metadata": {
    "collapsed": false
   },
   "outputs": [],
   "source": [
    "uri=float(gyoseki[6].ix[5,1])/float(gyoseki[6].ix[4,1])-1.0\n",
    "eiri=float(gyoseki[6].ix[5,2])/float(gyoseki[6].ix[4,2])-1.0\n",
    "keiri=float(gyoseki[6].ix[5,3])/float(gyoseki[6].ix[4,3])-1.0\n",
    "junri=float(gyoseki[6].ix[5,4])/float(gyoseki[6].ix[4,4])-1.0"
   ]
  },
  {
   "cell_type": "markdown",
   "metadata": {},
   "source": [
    "全銘柄について業績の伸び率を計算 (以下を実行すると終了まで3時間くらいかかる)"
   ]
  },
  {
   "cell_type": "code",
   "execution_count": null,
   "metadata": {
    "collapsed": true
   },
   "outputs": [],
   "source": [
    "# -*- coding: utf-8 -*-\n",
    "\"\"\"\n",
    "shikihou_gyoseki_150331.py\n",
    "四季報の売上高、営業利益、経常利益、純利益取得の伸び率取得\n",
    "\"\"\"\n",
    "import pandas as pd\n",
    "import time\n",
    "sta=time.time()\n",
    "\n",
    "fi=open(\"meigara.csv\",\"r\") #銘柄コードリスト\n",
    "fo=open(\"150331_shikihou_gyoseki_syusei.csv\",\"w\") #業績の伸び率データ\n",
    "\n",
    "for code in fi:\n",
    "    code=code.rstrip()\n",
    "    print code\n",
    "    try:\n",
    "        gyoseki=pd.read_html(\"https://shikiho.jp/tk/stock/info/\"+str(code),header=None)\n",
    "        print code\n",
    "        li=list(gyoseki[6].ix[:,0])\n",
    "        for i in li:\n",
    "            if \"14\" in i:\n",
    "                i1=li.index(i)\n",
    "                uri=float(gyoseki[6].ix[i1+1,1])/float(gyoseki[6].ix[i1,1])-1.0\n",
    "                eiri=float(gyoseki[6].ix[i1+1,2])/float(gyoseki[6].ix[i1,2])-1.0\n",
    "                keiri=float(gyoseki[6].ix[i1+1,3])/float(gyoseki[6].ix[i1,3])-1.0\n",
    "                junri=float(gyoseki[6].ix[i1+1,4])/float(gyoseki[6].ix[i1,4])-1.0\n",
    "                break\n",
    "        print >>fo, code,\",\",uri,\",\",eiri,\",\",keiri,\",\",junri\n",
    "    except:\n",
    "        print \"exception occured\"\n",
    "fo.close()\n",
    "fin=time.time()\n",
    "print \"elapsed time:\"+str(fin-sta)+\"sec\""
   ]
  },
  {
   "cell_type": "code",
   "execution_count": null,
   "metadata": {
    "collapsed": true
   },
   "outputs": [],
   "source": [
    "# -*- coding: utf-8 -*-\n",
    "\"\"\"\n",
    "meigara_list.py\n",
    "銘柄リストを作成\n",
    "\"\"\"\n",
    "import pandas as pd\n",
    "import time\n",
    "sta=time.time()\n",
    "fo=open(\"meigara.csv\",\"w\")\n",
    "for n in range(1,10):\n",
    "    meigara=pd.read_html(\"http://kabuka.biz/riron/category/code\"+str(n)+\"000.htm\")\n",
    "    for i in meigara:\n",
    "        for j in range(1,len(i)):\n",
    "            print >>fo, i.ix[j,0][1:5]\n",
    "fin=time.time()\n",
    "print \"elapsed time:\"+str(fin-sta)+\"sec\"\n",
    "fo.close()"
   ]
  },
  {
   "cell_type": "markdown",
   "metadata": {},
   "source": [
    "## 3. 2014年3月31日と2015年3月31日の株価調整後終値をpandasでヤフーファイナンスから取得"
   ]
  },
  {
   "cell_type": "markdown",
   "metadata": {},
   "source": [
    "「1301、極洋」の株価を取得"
   ]
  },
  {
   "cell_type": "code",
   "execution_count": 6,
   "metadata": {
    "collapsed": false
   },
   "outputs": [
    {
     "data": {
      "text/html": [
       "<div>\n",
       "<table border=\"1\" class=\"dataframe\">\n",
       "  <thead>\n",
       "    <tr style=\"text-align: right;\">\n",
       "      <th></th>\n",
       "      <th>0</th>\n",
       "      <th>1</th>\n",
       "      <th>2</th>\n",
       "      <th>3</th>\n",
       "      <th>4</th>\n",
       "      <th>5</th>\n",
       "      <th>6</th>\n",
       "    </tr>\n",
       "  </thead>\n",
       "  <tbody>\n",
       "    <tr>\n",
       "      <th>0</th>\n",
       "      <td>日付</td>\n",
       "      <td>始値</td>\n",
       "      <td>高値</td>\n",
       "      <td>安値</td>\n",
       "      <td>終値</td>\n",
       "      <td>出来高</td>\n",
       "      <td>調整後終値*</td>\n",
       "    </tr>\n",
       "    <tr>\n",
       "      <th>1</th>\n",
       "      <td>2014年3月31日</td>\n",
       "      <td>263</td>\n",
       "      <td>264</td>\n",
       "      <td>261</td>\n",
       "      <td>262</td>\n",
       "      <td>255000</td>\n",
       "      <td>262</td>\n",
       "    </tr>\n",
       "  </tbody>\n",
       "</table>\n",
       "</div>"
      ],
      "text/plain": [
       "            0    1    2    3    4       5       6\n",
       "0          日付   始値   高値   安値   終値     出来高  調整後終値*\n",
       "1  2014年3月31日  263  264  261  262  255000     262"
      ]
     },
     "execution_count": 6,
     "metadata": {},
     "output_type": "execute_result"
    }
   ],
   "source": [
    "kabuka1=pd.read_html(\"http://info.finance.yahoo.co.jp/history/?code=1301.T&sy=2014&sm=3&sd=31&ey=2014&em=3&ed=31&tm=d\")\n",
    "kabuka1[1]"
   ]
  },
  {
   "cell_type": "code",
   "execution_count": 7,
   "metadata": {
    "collapsed": false
   },
   "outputs": [
    {
     "data": {
      "text/html": [
       "<div>\n",
       "<table border=\"1\" class=\"dataframe\">\n",
       "  <thead>\n",
       "    <tr style=\"text-align: right;\">\n",
       "      <th></th>\n",
       "      <th>0</th>\n",
       "      <th>1</th>\n",
       "      <th>2</th>\n",
       "      <th>3</th>\n",
       "      <th>4</th>\n",
       "      <th>5</th>\n",
       "      <th>6</th>\n",
       "    </tr>\n",
       "  </thead>\n",
       "  <tbody>\n",
       "    <tr>\n",
       "      <th>0</th>\n",
       "      <td>日付</td>\n",
       "      <td>始値</td>\n",
       "      <td>高値</td>\n",
       "      <td>安値</td>\n",
       "      <td>終値</td>\n",
       "      <td>出来高</td>\n",
       "      <td>調整後終値*</td>\n",
       "    </tr>\n",
       "    <tr>\n",
       "      <th>1</th>\n",
       "      <td>2015年3月31日</td>\n",
       "      <td>288</td>\n",
       "      <td>290</td>\n",
       "      <td>282</td>\n",
       "      <td>284</td>\n",
       "      <td>889000</td>\n",
       "      <td>284</td>\n",
       "    </tr>\n",
       "  </tbody>\n",
       "</table>\n",
       "</div>"
      ],
      "text/plain": [
       "            0    1    2    3    4       5       6\n",
       "0          日付   始値   高値   安値   終値     出来高  調整後終値*\n",
       "1  2015年3月31日  288  290  282  284  889000     284"
      ]
     },
     "execution_count": 7,
     "metadata": {},
     "output_type": "execute_result"
    }
   ],
   "source": [
    "kabuka2=pd.read_html(\"http://info.finance.yahoo.co.jp/history/?code=1301.T&sy=2015&sm=3&sd=31&ey=2015&em=3&ed=31&tm=d\")\n",
    "kabuka2[1]"
   ]
  },
  {
   "cell_type": "markdown",
   "metadata": {},
   "source": [
    "## 4. 株価の伸び率を計算"
   ]
  },
  {
   "cell_type": "code",
   "execution_count": 8,
   "metadata": {
    "collapsed": true
   },
   "outputs": [],
   "source": [
    "kabunobi=float(kabuka2[1].ix[1,1])/float(kabuka1[1].ix[1,1])-1.0"
   ]
  },
  {
   "cell_type": "markdown",
   "metadata": {},
   "source": [
    "全銘柄について株価の伸び率を計算 (以下を実行すると終了まで1時間くらいかかる)"
   ]
  },
  {
   "cell_type": "code",
   "execution_count": null,
   "metadata": {
    "collapsed": true
   },
   "outputs": [],
   "source": [
    "# -*- coding: utf-8 -*-\n",
    "\"\"\"\n",
    "kabuka_stretch_ratio_150331.py\n",
    "株価取得\n",
    "\"\"\"\n",
    "import pandas as pd\n",
    "import time\n",
    "sta=time.time()\n",
    "\n",
    "y1=2014\n",
    "m1=3\n",
    "d1=31\n",
    "y2=2015\n",
    "m2=3\n",
    "d2=31\n",
    "\n",
    "fi=open(\"meigara.csv\",\"r\") #銘柄コードリスト\n",
    "fo=open(\"150331_kabunobi.csv\",\"w\") #株価伸び率データ\n",
    "\n",
    "def get_kabuka(code,yy,mm,dd):\n",
    "    url=\"http://info.finance.yahoo.co.jp/history/?code=\" + str(code) \\\n",
    "       +\".T&sy=\"+str(yy)+\"&sm=\"+str(mm)+\"&sd=\"+str(dd) \\\n",
    "       +  \"&ey=\"+str(yy)+\"&em=\"+str(mm)+\"&ed=\"+str(dd)+\"&tm=d\"\n",
    "    try:\n",
    "        kabuka = pd.read_html(url)\n",
    "        kabuka1=kabuka[1].ix[1,6] #調整後終値\n",
    "    except:\n",
    "        print \"exception occured\"+\",\",str(yy)+\"/\"+str(mm)+\"/\"+str(dd)\n",
    "        kabuka1=\"0\"\n",
    "    return kabuka1\n",
    "\n",
    "for code in fi:\n",
    "    code=code.rstrip()\n",
    "    print code\n",
    "    if get_kabuka(code,y1,m1,d1)!=\"0\" and get_kabuka(code,y2,m2,d2)!=\"0\":\n",
    "        print >>fo,code,\",\",str(y1)+\"/\"+str(m1)+\"/\"+str(d1), \\\n",
    "                        \",\",get_kabuka(code,y1,m1,d1), \\\n",
    "                        \",\",str(y2)+\"/\"+str(m2)+\"/\"+str(d2), \\\n",
    "                        \",\",get_kabuka(code,y2,m2,d2), \\\n",
    "                        \",\",float(get_kabuka(code,y2,m2,d2)) \\\n",
    "                           /float(get_kabuka(code,y1,m1,d1))-1.0\n",
    "fi.close()\n",
    "fo.close()\n",
    "fin=time.time()\n",
    "print \"elapsed time:\"+str(fin-sta)+\"sec\""
   ]
  },
  {
   "cell_type": "code",
   "execution_count": 5,
   "metadata": {
    "collapsed": false
   },
   "outputs": [
    {
     "name": "stdout",
     "output_type": "stream",
     "text": [
      "Populating the interactive namespace from numpy and matplotlib\n"
     ]
    }
   ],
   "source": [
    "#インラインにグラフ表示\n",
    "%pylab inline"
   ]
  },
  {
   "cell_type": "markdown",
   "metadata": {},
   "source": [
    "## 5. matplotlibで業績の伸び率を横軸、株価の伸び率を縦軸として散布図を作成"
   ]
  },
  {
   "cell_type": "code",
   "execution_count": 4,
   "metadata": {
    "collapsed": false
   },
   "outputs": [
    {
     "name": "stdout",
     "output_type": "stream",
     "text": [
      "elapsed time:1.59700012207sec\n"
     ]
    },
    {
     "data": {
      "image/png": "[encoded data removed]",
      "text/plain": [
       "<matplotlib.figure.Figure at 0x3e8ae80>"
      ]
     },
     "metadata": {},
     "output_type": "display_data"
    }
   ],
   "source": [
    "# -*- coding: utf-8 -*-\n",
    "\"\"\"\n",
    "shikihiou_gyoseki_plot_150331.py\n",
    "四季報の業績予想の修正率と株価の伸び率の関係\n",
    "\"\"\"\n",
    "import pandas as pd\n",
    "import matplotlib.pyplot as plt\n",
    "import matplotlib.font_manager\n",
    "import time\n",
    "sta=time.time()\n",
    "\n",
    "prop = matplotlib.font_manager.FontProperties(fname=r'C:\\Windows\\Fonts\\meiryo.ttc') #日本語フォント設定\n",
    "d1 = pd.read_csv(\"150331_shikihou_gyoseki_syusei.csv\", header=None) #業績の伸び率データ\n",
    "d2 = pd.read_csv(\"150331_kabunobi.csv\", header=None) #株価伸び率データ\n",
    "\n",
    "li1=list(d1.ix[:,0])\n",
    "li2=list(d2.ix[:,0])\n",
    "li = list(set(li1) & set(li2))\n",
    "li.sort()\n",
    "\n",
    "uri=[]\n",
    "eiri=[]\n",
    "keiri=[]\n",
    "junri=[]\n",
    "kabunobi=[]\n",
    "\n",
    "n11=0\n",
    "n12=0\n",
    "n13=0\n",
    "n14=0\n",
    "n21=0\n",
    "n22=0\n",
    "n23=0\n",
    "n24=0\n",
    "n31=0\n",
    "n32=0\n",
    "n33=0\n",
    "n34=0\n",
    "n41=0\n",
    "n42=0\n",
    "n43=0\n",
    "n44=0\n",
    "\n",
    "for code in li:\n",
    "    i1=li1.index(code)\n",
    "    i2=li2.index(code)\n",
    "    uri.append(d1.ix[i1,1])\n",
    "    eiri.append(d1.ix[i1,2])\n",
    "    keiri.append(d1.ix[i1,3])\n",
    "    junri.append(d1.ix[i1,4])\n",
    "    kabunobi.append(d2.ix[i2,5])\n",
    "    if float(d1.ix[i1,1])>0.0 and d2.ix[i2,5]>0.0:\n",
    "        n11+=1\n",
    "    if float(d1.ix[i1,1])<0.0 and d2.ix[i2,5]>0.0:\n",
    "        n12+=1\n",
    "    if float(d1.ix[i1,1])<0.0 and d2.ix[i2,5]<0.0:\n",
    "        n13+=1\n",
    "    if float(d1.ix[i1,1])>0.0 and d2.ix[i2,5]<0.0:\n",
    "        n14+=1\n",
    "    if float(d1.ix[i1,2])>0.0 and d2.ix[i2,5]>0.0:\n",
    "        n21+=1\n",
    "    if float(d1.ix[i1,2])<0.0 and d2.ix[i2,5]>0.0:\n",
    "        n22+=1\n",
    "    if float(d1.ix[i1,2])<0.0 and d2.ix[i2,5]<0.0:\n",
    "        n23+=1\n",
    "    if float(d1.ix[i1,2])>0.0 and d2.ix[i2,5]<0.0:\n",
    "        n24+=1\n",
    "    if float(d1.ix[i1,3])>0.0 and d2.ix[i2,5]>0.0:\n",
    "        n31+=1\n",
    "    if float(d1.ix[i1,3])<0.0 and d2.ix[i2,5]>0.0:\n",
    "        n32+=1\n",
    "    if float(d1.ix[i1,3])<0.0 and d2.ix[i2,5]<0.0:\n",
    "        n33+=1\n",
    "    if float(d1.ix[i1,3])>0.0 and d2.ix[i2,5]<0.0:\n",
    "        n34+=1\n",
    "    if float(d1.ix[i1,4])>0.0 and d2.ix[i2,5]>0.0:\n",
    "        n41+=1\n",
    "    if float(d1.ix[i1,4])<0.0 and d2.ix[i2,5]>0.0:\n",
    "        n42+=1\n",
    "    if float(d1.ix[i1,4])<0.0 and d2.ix[i2,5]<0.0:\n",
    "        n43+=1\n",
    "    if float(d1.ix[i1,4])>0.0 and d2.ix[i2,5]<0.0:\n",
    "        n44+=1\n",
    "        \n",
    "plt.subplot(2,2,1) #2×2のプロット\n",
    "plt.plot(uri,kabunobi,\"o\")\n",
    "plt.xlim(-5,5)\n",
    "plt.xlabel(u\"売上高の伸び率\", fontproperties=prop)\n",
    "plt.ylabel(u\"株価の伸び率\", fontproperties=prop)\n",
    "#plt.hlines(0,-100,100)\n",
    "#plt.vlines(0,-100,100)\n",
    "plt.figtext(0.13,0.87,'N='+str(len(li)),size=12)\n",
    "plt.figtext(0.13,0.85,'X>0, Y>0: N1='+str(n11),size=12)\n",
    "plt.figtext(0.13,0.83,'X<0, Y>0: N2='+str(n12),size=12)\n",
    "plt.figtext(0.13,0.81,'X<0, Y<0: N3='+str(n13),size=12)\n",
    "plt.figtext(0.13,0.79,'X>0, Y<0: N4='+str(n14),size=12)\n",
    "plt.grid(True)\n",
    "plt.subplot(2,2,2)\n",
    "plt.plot(eiri,kabunobi,\"o\")\n",
    "plt.xlim(-5,5)\n",
    "plt.xlabel(u\"営業利益の伸び率\", fontproperties=prop)\n",
    "plt.ylabel(u\"株価の伸び率\", fontproperties=prop)\n",
    "plt.grid(True)\n",
    "plt.figtext(0.55,0.87,'N='+str(len(li)),size=12)\n",
    "plt.figtext(0.55,0.85,'X>0, Y>0: N1='+str(n21),size=12)\n",
    "plt.figtext(0.55,0.83,'X<0, Y>0: N2='+str(n22),size=12)\n",
    "plt.figtext(0.55,0.81,'X<0, Y<0: N3='+str(n23),size=12)\n",
    "plt.figtext(0.55,0.79,'X>0, Y<0: N4='+str(n24),size=12)\n",
    "plt.subplot(2,2,3)\n",
    "plt.plot(keiri,kabunobi,\"o\")\n",
    "plt.xlim(-5,5)\n",
    "plt.xlabel(u\"経常利益の伸び率\", fontproperties=prop)\n",
    "plt.ylabel(u\"株価の伸び率\", fontproperties=prop)\n",
    "plt.grid(True)\n",
    "plt.figtext(0.13,0.42,'N='+str(len(li)),size=12)\n",
    "plt.figtext(0.13,0.40,'X>0, Y>0: N1='+str(n31),size=12)\n",
    "plt.figtext(0.13,0.38,'X<0, Y>0: N2='+str(n32),size=12)\n",
    "plt.figtext(0.13,0.36,'X<0, Y<0: N3='+str(n33),size=12)\n",
    "plt.figtext(0.13,0.34,'X>0, Y<0: N4='+str(n34),size=12)\n",
    "plt.subplot(2,2,4)\n",
    "plt.plot(junri,kabunobi,\"o\")\n",
    "plt.xlim(-5,5)\n",
    "plt.xlabel(u\"純利益の伸び率\", fontproperties=prop)\n",
    "plt.ylabel(u\"株価の伸び率\", fontproperties=prop)\n",
    "plt.grid(True)\n",
    "plt.figtext(0.55,0.42,'N='+str(len(li)),size=12)\n",
    "plt.figtext(0.55,0.40,'X>0, Y>0: N1='+str(n41),size=12)\n",
    "plt.figtext(0.55,0.38,'X<0, Y>0: N2='+str(n42),size=12)\n",
    "plt.figtext(0.55,0.36,'X<0, Y<0: N3='+str(n43),size=12)\n",
    "plt.figtext(0.55,0.34,'X>0, Y<0: N4='+str(n44),size=12)\n",
    "fin=time.time()\n",
    "print \"elapsed time:\"+str(fin-sta)+\"sec\"\n",
    "plt.show()"
   ]
  },
  {
   "cell_type": "markdown",
   "metadata": {},
   "source": [
    "## 6. matplotlibで株価の伸び率のヒストグラムを作成"
   ]
  },
  {
   "cell_type": "code",
   "execution_count": 6,
   "metadata": {
    "collapsed": false
   },
   "outputs": [
    {
     "data": {
      "image/png": "[encoded data removed]",
      "text/plain": [
       "<matplotlib.figure.Figure at 0xd7339b0>"
      ]
     },
     "metadata": {},
     "output_type": "display_data"
    }
   ],
   "source": [
    "# -*- coding: utf-8 -*-\n",
    "import numpy\n",
    "import matplotlib.pyplot as plt\n",
    "import matplotlib.font_manager\n",
    "\n",
    "#日本語フォント設定\n",
    "prop = matplotlib.font_manager.FontProperties(fname=r'C:\\Windows\\Fonts\\meiryo.ttc')\n",
    "\n",
    "f=open('150331_kabunobi.csv','r')\n",
    "kabunobi=[]\n",
    "x=[]\n",
    "for i in f:\n",
    "    i=i.rstrip()\n",
    "    i=i.split(',')\n",
    "    a=float(i[4])/float(i[2])-1.0\n",
    "    kabunobi.append(a)\n",
    "f.close()\n",
    "x = numpy.array(kabunobi)\n",
    "plt.xlabel(u\"株価の伸び率\", fontproperties=prop,size=24)\n",
    "\n",
    "plt.hist(kabunobi, bins=50)\n",
    "plt.figtext(0.6,0.8,'N='+str(len(kabunobi)),size=24)\n",
    "plt.figtext(0.6,0.7,'mu=%.3f' % numpy.mean(x),size=24)\n",
    "plt.figtext(0.6,0.6,'sigma=%.3f' % numpy.std(x),size=24)\n",
    "plt.show()"
   ]
  },
  {
   "cell_type": "markdown",
   "metadata": {
    "collapsed": true
   },
   "source": [
    "## 7. matplotlibでTOPIXのチャート描画"
   ]
  },
  {
   "cell_type": "markdown",
   "metadata": {},
   "source": [
    "事前に\"pip install jsm\"でjsmをインストール。\n",
    "argvsを生かして、\"python jsm_kabuka_get.py 998405 2014 3 31 2015 3 31\"として実行することも可能。"
   ]
  },
  {
   "cell_type": "code",
   "execution_count": 12,
   "metadata": {
    "collapsed": false
   },
   "outputs": [
    {
     "name": "stderr",
     "output_type": "stream",
     "text": [
      "C:\\Users\\takuo\\Anaconda\\lib\\site-packages\\bs4\\__init__.py:166: UserWarning: No parser was explicitly specified, so I'm using the best available HTML parser for this system (\"lxml\"). This usually isn't a problem, but if you run this code on another system, or in a different virtual environment, it may use a different parser and behave differently.\n",
      "\n",
      "To get rid of this warning, change this:\n",
      "\n",
      " BeautifulSoup([your markup])\n",
      "\n",
      "to this:\n",
      "\n",
      " BeautifulSoup([your markup], \"lxml\")\n",
      "\n",
      "  markup_type=markup_type))\n"
     ]
    },
    {
     "data": {
      "image/png": "[encoded data removed]",
      "text/plain": [
       "<matplotlib.figure.Figure at 0xbfbc2b0>"
      ]
     },
     "metadata": {},
     "output_type": "display_data"
    }
   ],
   "source": [
    "# -*- coding: utf-8 -*-\n",
    "\"\"\"\n",
    "jsm_kabuka_get.py\n",
    "株価チャートを描画\n",
    "\"\"\"\n",
    "import sys\n",
    "import jsm\n",
    "import datetime\n",
    "import numpy as np\n",
    "import matplotlib.pyplot as plt\n",
    "import matplotlib.dates as mdates\n",
    "\n",
    "q=jsm.Quotes()\n",
    "argvs=sys.argv # コマンドライン引数を格納したリストの取得\n",
    "\n",
    "# 取得する日の範囲を指定する\n",
    "#meigara=argvs[1] #銘柄コード\n",
    "#sy=int(argvs[2]) #start year\n",
    "#sm=int(argvs[3]) #start month\n",
    "#sd=int(argvs[4]) #start day\n",
    "#ey=int(argvs[5]) #end year\n",
    "#em=int(argvs[6]) #end month\n",
    "#ed=int(argvs[7]) #end day\n",
    "\n",
    "meigara= \"998405\" #銘柄コード\n",
    "sy=2014 #start year\n",
    "sm=3 #start month\n",
    "sd=31 #start day\n",
    "ey=2015 #end year\n",
    "em=3 #end month\n",
    "ed=31 #end day\n",
    "\n",
    "start = datetime.datetime(sy, sm, sd)\n",
    "end = datetime.datetime(ey, em, ed)\n",
    "start1=str(sy)+'-'+str(sm)+'-'+str(sd)\n",
    "end1=str(ey)+'-'+str(em)+'-'+str(ed)\n",
    "title=meigara+' from '+start1+' to '+end1\n",
    "f=open(title +\".csv\",\"w\")\n",
    "\n",
    "data=q.get_historical_prices(meigara, jsm.DAILY, start, end)\n",
    "\n",
    "date=[]\n",
    "adj_close=[]\n",
    "for i in data:\n",
    "    i=str(i)\n",
    "    i=i.rstrip(\">\")\n",
    "    i=i.split(\":\")\n",
    "    print >>f, i[1][0:10]+\",\"+i[9]\n",
    "    tdatetime = datetime.datetime.strptime(i[1]+\":00:00\", '%Y-%m-%d %H:%M:%S')\n",
    "    tdate = datetime.date(tdatetime.year, tdatetime.month, tdatetime.day)\n",
    "    date.append(tdate)\n",
    "    adj_close.append(i[9])\n",
    "\n",
    "# データをセット\n",
    "fig=plt.figure()\n",
    "plt.title(title)\n",
    "ax=fig.add_subplot(111)\n",
    "ax.plot(date, adj_close)\n",
    "# グラフのフォーマットの設定\n",
    "fig.autofmt_xdate()\n",
    "plt.savefig(title)\n",
    "f.close()"
   ]
  },
  {
   "cell_type": "markdown",
   "metadata": {},
   "source": [
    "## まとめ\n",
    "\n",
    "\n",
    "1. pandasでWEB上から四季報の業績データと株価のデータを取得\n",
    "2. matplotlibで業績の伸び率と株価の伸び率を散布図で視覚化\n",
    "3. matplotlibで株価の伸び率のヒストグラム作成\n",
    "4. matplotlibでTOPIXのチャート描画"
   ]
  },
  {
   "cell_type": "code",
   "execution_count": null,
   "metadata": {
    "collapsed": true
   },
   "outputs": [],
   "source": []
  }
 ],
 "metadata": {
  "kernelspec": {
   "display_name": "Python 2",
   "language": "python",
   "name": "python2"
  },
  "language_info": {
   "codemirror_mode": {
    "name": "ipython",
    "version": 2
   },
   "file_extension": ".py",
   "mimetype": "text/x-python",
   "name": "python",
   "nbconvert_exporter": "python",
   "pygments_lexer": "ipython2",
   "version": "2.7.9"
  }
 },
 "nbformat": 4,
 "nbformat_minor": 0
}
